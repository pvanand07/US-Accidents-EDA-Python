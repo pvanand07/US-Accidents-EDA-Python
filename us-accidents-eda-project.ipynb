{
 "cells": [
  {
   "cell_type": "code",
   "execution_count": 1,
   "id": "685c654b",
   "metadata": {
    "_cell_guid": "b1076dfc-b9ad-4769-8c92-a6c4dae69d19",
    "_uuid": "8f2839f25d086af736a60e9eeb907d3b93b6e0e5",
    "execution": {
     "iopub.execute_input": "2022-12-21T09:24:37.768177Z",
     "iopub.status.busy": "2022-12-21T09:24:37.767209Z",
     "iopub.status.idle": "2022-12-21T09:24:39.002653Z",
     "shell.execute_reply": "2022-12-21T09:24:39.001604Z"
    },
    "papermill": {
     "duration": 1.248276,
     "end_time": "2022-12-21T09:24:39.006270",
     "exception": false,
     "start_time": "2022-12-21T09:24:37.757994",
     "status": "completed"
    },
    "tags": []
   },
   "outputs": [
    {
     "name": "stdout",
     "output_type": "stream",
     "text": [
      "/kaggle/input/us-accidents/US_Accidents_Dec21_updated.csv\n"
     ]
    }
   ],
   "source": [
    "#Import necessory Libraries\n",
    "import numpy as np # linear algebra\n",
    "import pandas as pd # data processing, CSV file I/O (e.g. pd.read_csv)\n",
    "import  matplotlib.pyplot as plt\n",
    "import seaborn as sns\n",
    "\n",
    "# List all files under the input directory\n",
    "import os\n",
    "for dirname, _, filenames in os.walk('/kaggle/input'):\n",
    "    for filename in filenames:\n",
    "        print(os.path.join(dirname, filename))"
   ]
  },
  {
   "cell_type": "markdown",
   "id": "e71f5541",
   "metadata": {
    "papermill": {
     "duration": 0.007615,
     "end_time": "2022-12-21T09:24:39.021795",
     "exception": false,
     "start_time": "2022-12-21T09:24:39.014180",
     "status": "completed"
    },
    "tags": []
   },
   "source": [
    "# US ACCIDENTS EXPLORATORY DATA ANALYSIS- START YEAR - END YEAR\n",
    "TODO - Talk about EDA\\\n",
    "TODO - Talk about the dataset (Source, what it contains, how it will be useful)\\\n",
    " -Kaggle\\\n",
    " -Information about accidents\\\n",
    " -Can be useful to prevent accidents\n"
   ]
  },
  {
   "cell_type": "markdown",
   "id": "99740fea",
   "metadata": {
    "papermill": {
     "duration": 0.005625,
     "end_time": "2022-12-21T09:24:39.033873",
     "exception": false,
     "start_time": "2022-12-21T09:24:39.028248",
     "status": "completed"
    },
    "tags": []
   },
   "source": [
    "## DATA IMPORT"
   ]
  },
  {
   "cell_type": "code",
   "execution_count": 2,
   "id": "7b05a3b2",
   "metadata": {
    "execution": {
     "iopub.execute_input": "2022-12-21T09:24:39.047483Z",
     "iopub.status.busy": "2022-12-21T09:24:39.047082Z",
     "iopub.status.idle": "2022-12-21T09:25:25.181754Z",
     "shell.execute_reply": "2022-12-21T09:25:25.180826Z"
    },
    "papermill": {
     "duration": 46.144583,
     "end_time": "2022-12-21T09:25:25.184323",
     "exception": false,
     "start_time": "2022-12-21T09:24:39.039740",
     "status": "completed"
    },
    "tags": []
   },
   "outputs": [],
   "source": [
    "df = pd.read_csv('/kaggle/input/us-accidents/US_Accidents_Dec21_updated.csv')"
   ]
  },
  {
   "cell_type": "markdown",
   "id": "6137aa86",
   "metadata": {
    "papermill": {
     "duration": 0.005444,
     "end_time": "2022-12-21T09:25:25.195937",
     "exception": false,
     "start_time": "2022-12-21T09:25:25.190493",
     "status": "completed"
    },
    "tags": []
   },
   "source": [
    "## DATA PREPARATION AND CLEANING"
   ]
  },
  {
   "cell_type": "code",
   "execution_count": 3,
   "id": "a57291f3",
   "metadata": {
    "execution": {
     "iopub.execute_input": "2022-12-21T09:25:25.209432Z",
     "iopub.status.busy": "2022-12-21T09:25:25.208800Z",
     "iopub.status.idle": "2022-12-21T09:25:25.238216Z",
     "shell.execute_reply": "2022-12-21T09:25:25.236368Z"
    },
    "papermill": {
     "duration": 0.039909,
     "end_time": "2022-12-21T09:25:25.241552",
     "exception": false,
     "start_time": "2022-12-21T09:25:25.201643",
     "status": "completed"
    },
    "tags": []
   },
   "outputs": [
    {
     "name": "stdout",
     "output_type": "stream",
     "text": [
      "Shape of the dataset = (2845342, 47)\n",
      "Top 5 rows\n",
      "    ID  Severity           Start_Time             End_Time  Start_Lat  \\\n",
      "0  A-1         3  2016-02-08 00:37:08  2016-02-08 06:37:08  40.108910   \n",
      "1  A-2         2  2016-02-08 05:56:20  2016-02-08 11:56:20  39.865420   \n",
      "2  A-3         2  2016-02-08 06:15:39  2016-02-08 12:15:39  39.102660   \n",
      "3  A-4         2  2016-02-08 06:51:45  2016-02-08 12:51:45  41.062130   \n",
      "4  A-5         3  2016-02-08 07:53:43  2016-02-08 13:53:43  39.172393   \n",
      "\n",
      "   Start_Lng    End_Lat    End_Lng  Distance(mi)  \\\n",
      "0 -83.092860  40.112060 -83.031870         3.230   \n",
      "1 -84.062800  39.865010 -84.048730         0.747   \n",
      "2 -84.524680  39.102090 -84.523960         0.055   \n",
      "3 -81.537840  41.062170 -81.535470         0.123   \n",
      "4 -84.492792  39.170476 -84.501798         0.500   \n",
      "\n",
      "                                         Description  ...  Roundabout Station  \\\n",
      "0  Between Sawmill Rd/Exit 20 and OH-315/Olentang...  ...       False   False   \n",
      "1                 At OH-4/OH-235/Exit 41 - Accident.  ...       False   False   \n",
      "2                   At I-71/US-50/Exit 1 - Accident.  ...       False   False   \n",
      "3                    At Dart Ave/Exit 21 - Accident.  ...       False   False   \n",
      "4                 At Mitchell Ave/Exit 6 - Accident.  ...       False   False   \n",
      "\n",
      "    Stop Traffic_Calming Traffic_Signal Turning_Loop Sunrise_Sunset  \\\n",
      "0  False           False          False        False          Night   \n",
      "1  False           False          False        False          Night   \n",
      "2  False           False          False        False          Night   \n",
      "3  False           False          False        False          Night   \n",
      "4  False           False          False        False            Day   \n",
      "\n",
      "  Civil_Twilight Nautical_Twilight Astronomical_Twilight  \n",
      "0          Night             Night                 Night  \n",
      "1          Night             Night                 Night  \n",
      "2          Night             Night                   Day  \n",
      "3          Night               Day                   Day  \n",
      "4            Day               Day                   Day  \n",
      "\n",
      "[5 rows x 47 columns]\n"
     ]
    }
   ],
   "source": [
    "print('Shape of the dataset =',df.shape)\n",
    "print('Top 5 rows')\n",
    "print(df.head(5))"
   ]
  },
  {
   "cell_type": "code",
   "execution_count": 4,
   "id": "2d62279b",
   "metadata": {
    "execution": {
     "iopub.execute_input": "2022-12-21T09:25:25.255857Z",
     "iopub.status.busy": "2022-12-21T09:25:25.255473Z",
     "iopub.status.idle": "2022-12-21T09:25:25.271547Z",
     "shell.execute_reply": "2022-12-21T09:25:25.270268Z"
    },
    "papermill": {
     "duration": 0.026385,
     "end_time": "2022-12-21T09:25:25.274455",
     "exception": false,
     "start_time": "2022-12-21T09:25:25.248070",
     "status": "completed"
    },
    "tags": []
   },
   "outputs": [
    {
     "name": "stdout",
     "output_type": "stream",
     "text": [
      "Bottom 5 rows\n",
      "                ID  Severity           Start_Time             End_Time  \\\n",
      "2845337  A-2845338         2  2019-08-23 18:03:25  2019-08-23 18:32:01   \n",
      "2845338  A-2845339         2  2019-08-23 19:11:30  2019-08-23 19:38:23   \n",
      "2845339  A-2845340         2  2019-08-23 19:00:21  2019-08-23 19:28:49   \n",
      "2845340  A-2845341         2  2019-08-23 19:00:21  2019-08-23 19:29:42   \n",
      "2845341  A-2845342         2  2019-08-23 18:52:06  2019-08-23 19:21:31   \n",
      "\n",
      "         Start_Lat  Start_Lng   End_Lat    End_Lng  Distance(mi)  \\\n",
      "2845337   34.00248 -117.37936  33.99888 -117.37094         0.543   \n",
      "2845338   32.76696 -117.14806  32.76555 -117.15363         0.338   \n",
      "2845339   33.77545 -117.84779  33.77740 -117.85727         0.561   \n",
      "2845340   33.99246 -118.40302  33.98311 -118.39565         0.772   \n",
      "2845341   34.13393 -117.23092  34.13736 -117.23934         0.537   \n",
      "\n",
      "                                               Description  ...  Roundabout  \\\n",
      "2845337                           At Market St - Accident.  ...       False   \n",
      "2845338    At Camino Del Rio/Mission Center Rd - Accident.  ...       False   \n",
      "2845339  At Glassell St/Grand Ave - Accident. in the ri...  ...       False   \n",
      "2845340     At CA-90/Marina Fwy/Jefferson Blvd - Accident.  ...       False   \n",
      "2845341              At Highland Ave/Arden Ave - Accident.  ...       False   \n",
      "\n",
      "        Station   Stop Traffic_Calming Traffic_Signal Turning_Loop  \\\n",
      "2845337   False  False           False          False        False   \n",
      "2845338   False  False           False          False        False   \n",
      "2845339   False  False           False          False        False   \n",
      "2845340   False  False           False          False        False   \n",
      "2845341   False  False           False          False        False   \n",
      "\n",
      "        Sunrise_Sunset Civil_Twilight Nautical_Twilight Astronomical_Twilight  \n",
      "2845337            Day            Day               Day                   Day  \n",
      "2845338            Day            Day               Day                   Day  \n",
      "2845339            Day            Day               Day                   Day  \n",
      "2845340            Day            Day               Day                   Day  \n",
      "2845341            Day            Day               Day                   Day  \n",
      "\n",
      "[5 rows x 47 columns]\n"
     ]
    }
   ],
   "source": [
    "print('Bottom 5 rows')\n",
    "print(df.tail(5))"
   ]
  },
  {
   "cell_type": "code",
   "execution_count": 5,
   "id": "9ba8b757",
   "metadata": {
    "execution": {
     "iopub.execute_input": "2022-12-21T09:25:25.290308Z",
     "iopub.status.busy": "2022-12-21T09:25:25.289886Z",
     "iopub.status.idle": "2022-12-21T09:25:25.296112Z",
     "shell.execute_reply": "2022-12-21T09:25:25.295326Z"
    },
    "papermill": {
     "duration": 0.016737,
     "end_time": "2022-12-21T09:25:25.299237",
     "exception": false,
     "start_time": "2022-12-21T09:25:25.282500",
     "status": "completed"
    },
    "tags": []
   },
   "outputs": [
    {
     "name": "stdout",
     "output_type": "stream",
     "text": [
      "Name of Columns =  Index(['ID', 'Severity', 'Start_Time', 'End_Time', 'Start_Lat', 'Start_Lng',\n",
      "       'End_Lat', 'End_Lng', 'Distance(mi)', 'Description', 'Number', 'Street',\n",
      "       'Side', 'City', 'County', 'State', 'Zipcode', 'Country', 'Timezone',\n",
      "       'Airport_Code', 'Weather_Timestamp', 'Temperature(F)', 'Wind_Chill(F)',\n",
      "       'Humidity(%)', 'Pressure(in)', 'Visibility(mi)', 'Wind_Direction',\n",
      "       'Wind_Speed(mph)', 'Precipitation(in)', 'Weather_Condition', 'Amenity',\n",
      "       'Bump', 'Crossing', 'Give_Way', 'Junction', 'No_Exit', 'Railway',\n",
      "       'Roundabout', 'Station', 'Stop', 'Traffic_Calming', 'Traffic_Signal',\n",
      "       'Turning_Loop', 'Sunrise_Sunset', 'Civil_Twilight', 'Nautical_Twilight',\n",
      "       'Astronomical_Twilight'],\n",
      "      dtype='object')\n",
      "Number of columns:  47\n"
     ]
    }
   ],
   "source": [
    "#Name of Columns\n",
    "print('Name of Columns = ',df.columns)\n",
    "#Number of columns\n",
    "print('Number of columns: ',len(df.columns))"
   ]
  },
  {
   "cell_type": "code",
   "execution_count": 6,
   "id": "8aaa78b7",
   "metadata": {
    "execution": {
     "iopub.execute_input": "2022-12-21T09:25:25.314966Z",
     "iopub.status.busy": "2022-12-21T09:25:25.314541Z",
     "iopub.status.idle": "2022-12-21T09:25:25.341522Z",
     "shell.execute_reply": "2022-12-21T09:25:25.339438Z"
    },
    "papermill": {
     "duration": 0.037678,
     "end_time": "2022-12-21T09:25:25.344324",
     "exception": false,
     "start_time": "2022-12-21T09:25:25.306646",
     "status": "completed"
    },
    "tags": []
   },
   "outputs": [
    {
     "name": "stdout",
     "output_type": "stream",
     "text": [
      "<class 'pandas.core.frame.DataFrame'>\n",
      "RangeIndex: 2845342 entries, 0 to 2845341\n",
      "Data columns (total 47 columns):\n",
      " #   Column                 Dtype  \n",
      "---  ------                 -----  \n",
      " 0   ID                     object \n",
      " 1   Severity               int64  \n",
      " 2   Start_Time             object \n",
      " 3   End_Time               object \n",
      " 4   Start_Lat              float64\n",
      " 5   Start_Lng              float64\n",
      " 6   End_Lat                float64\n",
      " 7   End_Lng                float64\n",
      " 8   Distance(mi)           float64\n",
      " 9   Description            object \n",
      " 10  Number                 float64\n",
      " 11  Street                 object \n",
      " 12  Side                   object \n",
      " 13  City                   object \n",
      " 14  County                 object \n",
      " 15  State                  object \n",
      " 16  Zipcode                object \n",
      " 17  Country                object \n",
      " 18  Timezone               object \n",
      " 19  Airport_Code           object \n",
      " 20  Weather_Timestamp      object \n",
      " 21  Temperature(F)         float64\n",
      " 22  Wind_Chill(F)          float64\n",
      " 23  Humidity(%)            float64\n",
      " 24  Pressure(in)           float64\n",
      " 25  Visibility(mi)         float64\n",
      " 26  Wind_Direction         object \n",
      " 27  Wind_Speed(mph)        float64\n",
      " 28  Precipitation(in)      float64\n",
      " 29  Weather_Condition      object \n",
      " 30  Amenity                bool   \n",
      " 31  Bump                   bool   \n",
      " 32  Crossing               bool   \n",
      " 33  Give_Way               bool   \n",
      " 34  Junction               bool   \n",
      " 35  No_Exit                bool   \n",
      " 36  Railway                bool   \n",
      " 37  Roundabout             bool   \n",
      " 38  Station                bool   \n",
      " 39  Stop                   bool   \n",
      " 40  Traffic_Calming        bool   \n",
      " 41  Traffic_Signal         bool   \n",
      " 42  Turning_Loop           bool   \n",
      " 43  Sunrise_Sunset         object \n",
      " 44  Civil_Twilight         object \n",
      " 45  Nautical_Twilight      object \n",
      " 46  Astronomical_Twilight  object \n",
      "dtypes: bool(13), float64(13), int64(1), object(20)\n",
      "memory usage: 773.4+ MB\n"
     ]
    }
   ],
   "source": [
    "#information about dataset\n",
    "df.info()"
   ]
  },
  {
   "cell_type": "code",
   "execution_count": 7,
   "id": "398b9711",
   "metadata": {
    "execution": {
     "iopub.execute_input": "2022-12-21T09:25:25.359766Z",
     "iopub.status.busy": "2022-12-21T09:25:25.359087Z",
     "iopub.status.idle": "2022-12-21T09:25:27.466419Z",
     "shell.execute_reply": "2022-12-21T09:25:27.465227Z"
    },
    "papermill": {
     "duration": 2.1183,
     "end_time": "2022-12-21T09:25:27.469095",
     "exception": false,
     "start_time": "2022-12-21T09:25:25.350795",
     "status": "completed"
    },
    "tags": []
   },
   "outputs": [
    {
     "data": {
      "text/html": [
       "<div>\n",
       "<style scoped>\n",
       "    .dataframe tbody tr th:only-of-type {\n",
       "        vertical-align: middle;\n",
       "    }\n",
       "\n",
       "    .dataframe tbody tr th {\n",
       "        vertical-align: top;\n",
       "    }\n",
       "\n",
       "    .dataframe thead th {\n",
       "        text-align: right;\n",
       "    }\n",
       "</style>\n",
       "<table border=\"1\" class=\"dataframe\">\n",
       "  <thead>\n",
       "    <tr style=\"text-align: right;\">\n",
       "      <th></th>\n",
       "      <th>Severity</th>\n",
       "      <th>Start_Lat</th>\n",
       "      <th>Start_Lng</th>\n",
       "      <th>End_Lat</th>\n",
       "      <th>End_Lng</th>\n",
       "      <th>Distance(mi)</th>\n",
       "      <th>Number</th>\n",
       "      <th>Temperature(F)</th>\n",
       "      <th>Wind_Chill(F)</th>\n",
       "      <th>Humidity(%)</th>\n",
       "      <th>Pressure(in)</th>\n",
       "      <th>Visibility(mi)</th>\n",
       "      <th>Wind_Speed(mph)</th>\n",
       "      <th>Precipitation(in)</th>\n",
       "    </tr>\n",
       "  </thead>\n",
       "  <tbody>\n",
       "    <tr>\n",
       "      <th>count</th>\n",
       "      <td>2845342</td>\n",
       "      <td>2845342</td>\n",
       "      <td>2845342</td>\n",
       "      <td>2845342</td>\n",
       "      <td>2845342</td>\n",
       "      <td>2845342</td>\n",
       "      <td>1101431</td>\n",
       "      <td>2776068</td>\n",
       "      <td>2375699</td>\n",
       "      <td>2772250</td>\n",
       "      <td>2786142</td>\n",
       "      <td>2774796</td>\n",
       "      <td>2687398</td>\n",
       "      <td>2295884</td>\n",
       "    </tr>\n",
       "    <tr>\n",
       "      <th>mean</th>\n",
       "      <td>2</td>\n",
       "      <td>36</td>\n",
       "      <td>-97</td>\n",
       "      <td>36</td>\n",
       "      <td>-97</td>\n",
       "      <td>0</td>\n",
       "      <td>8089</td>\n",
       "      <td>61</td>\n",
       "      <td>59</td>\n",
       "      <td>64</td>\n",
       "      <td>29</td>\n",
       "      <td>9</td>\n",
       "      <td>7</td>\n",
       "      <td>0</td>\n",
       "    </tr>\n",
       "    <tr>\n",
       "      <th>std</th>\n",
       "      <td>0</td>\n",
       "      <td>5</td>\n",
       "      <td>18</td>\n",
       "      <td>5</td>\n",
       "      <td>18</td>\n",
       "      <td>1</td>\n",
       "      <td>18360</td>\n",
       "      <td>18</td>\n",
       "      <td>21</td>\n",
       "      <td>22</td>\n",
       "      <td>1</td>\n",
       "      <td>2</td>\n",
       "      <td>5</td>\n",
       "      <td>0</td>\n",
       "    </tr>\n",
       "    <tr>\n",
       "      <th>min</th>\n",
       "      <td>1</td>\n",
       "      <td>24</td>\n",
       "      <td>-124</td>\n",
       "      <td>24</td>\n",
       "      <td>-124</td>\n",
       "      <td>0</td>\n",
       "      <td>0</td>\n",
       "      <td>-89</td>\n",
       "      <td>-89</td>\n",
       "      <td>1</td>\n",
       "      <td>0</td>\n",
       "      <td>0</td>\n",
       "      <td>0</td>\n",
       "      <td>0</td>\n",
       "    </tr>\n",
       "    <tr>\n",
       "      <th>25%</th>\n",
       "      <td>2</td>\n",
       "      <td>33</td>\n",
       "      <td>-118</td>\n",
       "      <td>33</td>\n",
       "      <td>-118</td>\n",
       "      <td>0</td>\n",
       "      <td>1270</td>\n",
       "      <td>50</td>\n",
       "      <td>46</td>\n",
       "      <td>48</td>\n",
       "      <td>29</td>\n",
       "      <td>10</td>\n",
       "      <td>3</td>\n",
       "      <td>0</td>\n",
       "    </tr>\n",
       "    <tr>\n",
       "      <th>50%</th>\n",
       "      <td>2</td>\n",
       "      <td>36</td>\n",
       "      <td>-92</td>\n",
       "      <td>36</td>\n",
       "      <td>-92</td>\n",
       "      <td>0</td>\n",
       "      <td>4007</td>\n",
       "      <td>64</td>\n",
       "      <td>63</td>\n",
       "      <td>67</td>\n",
       "      <td>29</td>\n",
       "      <td>10</td>\n",
       "      <td>7</td>\n",
       "      <td>0</td>\n",
       "    </tr>\n",
       "    <tr>\n",
       "      <th>75%</th>\n",
       "      <td>2</td>\n",
       "      <td>40</td>\n",
       "      <td>-80</td>\n",
       "      <td>40</td>\n",
       "      <td>-80</td>\n",
       "      <td>0</td>\n",
       "      <td>9567</td>\n",
       "      <td>76</td>\n",
       "      <td>76</td>\n",
       "      <td>83</td>\n",
       "      <td>30</td>\n",
       "      <td>10</td>\n",
       "      <td>10</td>\n",
       "      <td>0</td>\n",
       "    </tr>\n",
       "    <tr>\n",
       "      <th>max</th>\n",
       "      <td>4</td>\n",
       "      <td>49</td>\n",
       "      <td>-67</td>\n",
       "      <td>49</td>\n",
       "      <td>-67</td>\n",
       "      <td>155</td>\n",
       "      <td>9999997</td>\n",
       "      <td>196</td>\n",
       "      <td>196</td>\n",
       "      <td>100</td>\n",
       "      <td>58</td>\n",
       "      <td>140</td>\n",
       "      <td>1087</td>\n",
       "      <td>24</td>\n",
       "    </tr>\n",
       "  </tbody>\n",
       "</table>\n",
       "</div>"
      ],
      "text/plain": [
       "       Severity  Start_Lat  Start_Lng  End_Lat  End_Lng  Distance(mi)  \\\n",
       "count   2845342    2845342    2845342  2845342  2845342       2845342   \n",
       "mean          2         36        -97       36      -97             0   \n",
       "std           0          5         18        5       18             1   \n",
       "min           1         24       -124       24     -124             0   \n",
       "25%           2         33       -118       33     -118             0   \n",
       "50%           2         36        -92       36      -92             0   \n",
       "75%           2         40        -80       40      -80             0   \n",
       "max           4         49        -67       49      -67           155   \n",
       "\n",
       "        Number  Temperature(F)  Wind_Chill(F)  Humidity(%)  Pressure(in)  \\\n",
       "count  1101431         2776068        2375699      2772250       2786142   \n",
       "mean      8089              61             59           64            29   \n",
       "std      18360              18             21           22             1   \n",
       "min          0             -89            -89            1             0   \n",
       "25%       1270              50             46           48            29   \n",
       "50%       4007              64             63           67            29   \n",
       "75%       9567              76             76           83            30   \n",
       "max    9999997             196            196          100            58   \n",
       "\n",
       "       Visibility(mi)  Wind_Speed(mph)  Precipitation(in)  \n",
       "count         2774796          2687398            2295884  \n",
       "mean                9                7                  0  \n",
       "std                 2                5                  0  \n",
       "min                 0                0                  0  \n",
       "25%                10                3                  0  \n",
       "50%                10                7                  0  \n",
       "75%                10               10                  0  \n",
       "max               140             1087                 24  "
      ]
     },
     "execution_count": 7,
     "metadata": {},
     "output_type": "execute_result"
    }
   ],
   "source": [
    "#Describe the dataset\n",
    "df.describe().astype(int)"
   ]
  },
  {
   "cell_type": "code",
   "execution_count": 8,
   "id": "9ef8df87",
   "metadata": {
    "execution": {
     "iopub.execute_input": "2022-12-21T09:25:27.485136Z",
     "iopub.status.busy": "2022-12-21T09:25:27.484463Z",
     "iopub.status.idle": "2022-12-21T09:25:27.494087Z",
     "shell.execute_reply": "2022-12-21T09:25:27.492919Z"
    },
    "papermill": {
     "duration": 0.020783,
     "end_time": "2022-12-21T09:25:27.496609",
     "exception": false,
     "start_time": "2022-12-21T09:25:27.475826",
     "status": "completed"
    },
    "tags": []
   },
   "outputs": [
    {
     "data": {
      "text/plain": [
       "0      Night\n",
       "1      Night\n",
       "2      Night\n",
       "3      Night\n",
       "4        Day\n",
       "       ...  \n",
       "105      Day\n",
       "106      Day\n",
       "107      Day\n",
       "108      Day\n",
       "109      Day\n",
       "Name: Civil_Twilight, Length: 110, dtype: object"
      ]
     },
     "execution_count": 8,
     "metadata": {},
     "output_type": "execute_result"
    }
   ],
   "source": [
    "#df.Sunrise_Sunset.value_counts()\n",
    "df.Civil_Twilight.head(110)"
   ]
  },
  {
   "cell_type": "code",
   "execution_count": 9,
   "id": "215b59ea",
   "metadata": {
    "execution": {
     "iopub.execute_input": "2022-12-21T09:25:27.512053Z",
     "iopub.status.busy": "2022-12-21T09:25:27.511663Z",
     "iopub.status.idle": "2022-12-21T09:25:27.629078Z",
     "shell.execute_reply": "2022-12-21T09:25:27.628242Z"
    },
    "papermill": {
     "duration": 0.127801,
     "end_time": "2022-12-21T09:25:27.631282",
     "exception": false,
     "start_time": "2022-12-21T09:25:27.503481",
     "status": "completed"
    },
    "tags": []
   },
   "outputs": [
    {
     "data": {
      "text/plain": [
       "Index(['Severity', 'Start_Lat', 'Start_Lng', 'End_Lat', 'End_Lng',\n",
       "       'Distance(mi)', 'Number', 'Temperature(F)', 'Wind_Chill(F)',\n",
       "       'Humidity(%)', 'Pressure(in)', 'Visibility(mi)', 'Wind_Speed(mph)',\n",
       "       'Precipitation(in)'],\n",
       "      dtype='object')"
      ]
     },
     "execution_count": 9,
     "metadata": {},
     "output_type": "execute_result"
    }
   ],
   "source": [
    "#select only numeric columns\n",
    "numeric_df = df.select_dtypes(include = 'number')\n",
    "numeric_df.columns"
   ]
  },
  {
   "cell_type": "markdown",
   "id": "3efc46cb",
   "metadata": {
    "papermill": {
     "duration": 0.006667,
     "end_time": "2022-12-21T09:25:27.645052",
     "exception": false,
     "start_time": "2022-12-21T09:25:27.638385",
     "status": "completed"
    },
    "tags": []
   },
   "source": [
    "### Handling Missing values"
   ]
  },
  {
   "cell_type": "code",
   "execution_count": 10,
   "id": "e71b3951",
   "metadata": {
    "execution": {
     "iopub.execute_input": "2022-12-21T09:25:27.661441Z",
     "iopub.status.busy": "2022-12-21T09:25:27.660679Z",
     "iopub.status.idle": "2022-12-21T09:25:30.164561Z",
     "shell.execute_reply": "2022-12-21T09:25:30.163404Z"
    },
    "papermill": {
     "duration": 2.514618,
     "end_time": "2022-12-21T09:25:30.166947",
     "exception": false,
     "start_time": "2022-12-21T09:25:27.652329",
     "status": "completed"
    },
    "tags": []
   },
   "outputs": [
    {
     "data": {
      "text/plain": [
       "Number                   61.29\n",
       "Precipitation(in)        19.31\n",
       "Wind_Chill(F)            16.51\n",
       "Wind_Speed(mph)           5.55\n",
       "Wind_Direction            2.59\n",
       "Humidity(%)               2.57\n",
       "Weather_Condition         2.48\n",
       "Visibility(mi)            2.48\n",
       "Temperature(F)            2.43\n",
       "Pressure(in)              2.08\n",
       "Weather_Timestamp         1.78\n",
       "Airport_Code              0.34\n",
       "Timezone                  0.13\n",
       "Nautical_Twilight         0.10\n",
       "Civil_Twilight            0.10\n",
       "Sunrise_Sunset            0.10\n",
       "Astronomical_Twilight     0.10\n",
       "Zipcode                   0.05\n",
       "City                      0.00\n",
       "Street                    0.00\n",
       "dtype: float64"
      ]
     },
     "execution_count": 10,
     "metadata": {},
     "output_type": "execute_result"
    }
   ],
   "source": [
    "null_values = df.isna()\n",
    "perc_null_values = null_values.sum().sort_values(ascending = False)*100/len(df)\n",
    "non_zero_perc_null_values = perc_null_values[perc_null_values != 0]\n",
    "non_zero_perc_null_values.round(2)"
   ]
  },
  {
   "cell_type": "code",
   "execution_count": 11,
   "id": "cbc91c69",
   "metadata": {
    "execution": {
     "iopub.execute_input": "2022-12-21T09:25:30.183020Z",
     "iopub.status.busy": "2022-12-21T09:25:30.182568Z",
     "iopub.status.idle": "2022-12-21T09:25:30.565480Z",
     "shell.execute_reply": "2022-12-21T09:25:30.564251Z"
    },
    "papermill": {
     "duration": 0.394141,
     "end_time": "2022-12-21T09:25:30.568308",
     "exception": false,
     "start_time": "2022-12-21T09:25:30.174167",
     "status": "completed"
    },
    "tags": []
   },
   "outputs": [
    {
     "data": {
      "text/plain": [
       "<AxesSubplot:>"
      ]
     },
     "execution_count": 11,
     "metadata": {},
     "output_type": "execute_result"
    },
    {
     "data": {
      "image/png": "[encoded data removed]",
      "text/plain": [
       "<Figure size 432x288 with 1 Axes>"
      ]
     },
     "metadata": {
      "needs_background": "light"
     },
     "output_type": "display_data"
    }
   ],
   "source": [
    "non_zero_perc_null_values = perc_null_values[perc_null_values != 0]\n",
    "non_zero_perc_null_values.round().plot(kind = 'barh')"
   ]
  },
  {
   "cell_type": "code",
   "execution_count": 12,
   "id": "0423e0ed",
   "metadata": {
    "execution": {
     "iopub.execute_input": "2022-12-21T09:25:30.585524Z",
     "iopub.status.busy": "2022-12-21T09:25:30.585094Z",
     "iopub.status.idle": "2022-12-21T09:25:30.589317Z",
     "shell.execute_reply": "2022-12-21T09:25:30.588147Z"
    },
    "papermill": {
     "duration": 0.015678,
     "end_time": "2022-12-21T09:25:30.591622",
     "exception": false,
     "start_time": "2022-12-21T09:25:30.575944",
     "status": "completed"
    },
    "tags": []
   },
   "outputs": [],
   "source": [
    "#Since Number column has more than 50% null values we can drop it\n",
    "#df_cleaned = df.drop()"
   ]
  },
  {
   "cell_type": "markdown",
   "id": "8077f5ae",
   "metadata": {
    "papermill": {
     "duration": 0.007259,
     "end_time": "2022-12-21T09:25:30.606544",
     "exception": false,
     "start_time": "2022-12-21T09:25:30.599285",
     "status": "completed"
    },
    "tags": []
   },
   "source": [
    "## EXPLORATORY ANALYSIS AND VISUALISATION"
   ]
  },
  {
   "cell_type": "markdown",
   "id": "dd14636f",
   "metadata": {
    "papermill": {
     "duration": 0.007264,
     "end_time": "2022-12-21T09:25:30.621551",
     "exception": false,
     "start_time": "2022-12-21T09:25:30.614287",
     "status": "completed"
    },
    "tags": []
   },
   "source": [
    "### Columns we'll analyze\n",
    "1. City\n",
    "2. Start Time\n",
    "3. Start Lat, Start Long\n",
    "4. Temperature\n",
    "5. Weather Condition"
   ]
  },
  {
   "cell_type": "code",
   "execution_count": 13,
   "id": "db305234",
   "metadata": {
    "execution": {
     "iopub.execute_input": "2022-12-21T09:25:30.638676Z",
     "iopub.status.busy": "2022-12-21T09:25:30.638291Z",
     "iopub.status.idle": "2022-12-21T09:25:31.183964Z",
     "shell.execute_reply": "2022-12-21T09:25:31.182622Z"
    },
    "papermill": {
     "duration": 0.557928,
     "end_time": "2022-12-21T09:25:31.187318",
     "exception": false,
     "start_time": "2022-12-21T09:25:30.629390",
     "status": "completed"
    },
    "tags": []
   },
   "outputs": [
    {
     "name": "stdout",
     "output_type": "stream",
     "text": [
      "Total number of cities:  11682\n"
     ]
    },
    {
     "data": {
      "text/plain": [
       "Miami                           106966\n",
       "Los Angeles                      68956\n",
       "Orlando                          54691\n",
       "Dallas                           41979\n",
       "Houston                          39448\n",
       "                                 ...  \n",
       "Ridgedale                            1\n",
       "Sekiu                                1\n",
       "Wooldridge                           1\n",
       "Bullock                              1\n",
       "American Fork-Pleasant Grove         1\n",
       "Name: City, Length: 11681, dtype: int64"
      ]
     },
     "execution_count": 13,
     "metadata": {},
     "output_type": "execute_result"
    }
   ],
   "source": [
    "cities = df.City.unique()\n",
    "print('Total number of cities: ',len(cities))\n",
    "cities_by_accident = df.City.value_counts()\n",
    "cities_by_accident"
   ]
  },
  {
   "cell_type": "code",
   "execution_count": 14,
   "id": "f86c6658",
   "metadata": {
    "execution": {
     "iopub.execute_input": "2022-12-21T09:25:31.205313Z",
     "iopub.status.busy": "2022-12-21T09:25:31.204896Z",
     "iopub.status.idle": "2022-12-21T09:25:31.214462Z",
     "shell.execute_reply": "2022-12-21T09:25:31.213167Z"
    },
    "papermill": {
     "duration": 0.021426,
     "end_time": "2022-12-21T09:25:31.216787",
     "exception": false,
     "start_time": "2022-12-21T09:25:31.195361",
     "status": "completed"
    },
    "tags": []
   },
   "outputs": [
    {
     "data": {
      "text/plain": [
       "7068"
      ]
     },
     "execution_count": 14,
     "metadata": {},
     "output_type": "execute_result"
    }
   ],
   "source": [
    "'New York' in cities\n",
    "cities_by_accident.loc['New York']"
   ]
  },
  {
   "cell_type": "code",
   "execution_count": 15,
   "id": "88b9d23e",
   "metadata": {
    "execution": {
     "iopub.execute_input": "2022-12-21T09:25:31.235115Z",
     "iopub.status.busy": "2022-12-21T09:25:31.234260Z",
     "iopub.status.idle": "2022-12-21T09:25:31.242435Z",
     "shell.execute_reply": "2022-12-21T09:25:31.241438Z"
    },
    "papermill": {
     "duration": 0.02014,
     "end_time": "2022-12-21T09:25:31.244885",
     "exception": false,
     "start_time": "2022-12-21T09:25:31.224745",
     "status": "completed"
    },
    "tags": []
   },
   "outputs": [
    {
     "data": {
      "text/plain": [
       "Index(['Severity', 'Start_Lat', 'Start_Lng', 'End_Lat', 'End_Lng',\n",
       "       'Distance(mi)', 'Number', 'Temperature(F)', 'Wind_Chill(F)',\n",
       "       'Humidity(%)', 'Pressure(in)', 'Visibility(mi)', 'Wind_Speed(mph)',\n",
       "       'Precipitation(in)'],\n",
       "      dtype='object')"
      ]
     },
     "execution_count": 15,
     "metadata": {},
     "output_type": "execute_result"
    }
   ],
   "source": [
    "numeric_df.columns"
   ]
  },
  {
   "cell_type": "code",
   "execution_count": 16,
   "id": "728da975",
   "metadata": {
    "execution": {
     "iopub.execute_input": "2022-12-21T09:25:31.263405Z",
     "iopub.status.busy": "2022-12-21T09:25:31.262966Z",
     "iopub.status.idle": "2022-12-21T09:25:31.591498Z",
     "shell.execute_reply": "2022-12-21T09:25:31.590345Z"
    },
    "papermill": {
     "duration": 0.341111,
     "end_time": "2022-12-21T09:25:31.594044",
     "exception": false,
     "start_time": "2022-12-21T09:25:31.252933",
     "status": "completed"
    },
    "tags": []
   },
   "outputs": [
    {
     "name": "stdout",
     "output_type": "stream",
     "text": [
      "cities by accident\n"
     ]
    },
    {
     "data": {
      "image/png": "[encoded data removed]",
      "text/plain": [
       "<Figure size 432x288 with 1 Axes>"
      ]
     },
     "metadata": {
      "needs_background": "light"
     },
     "output_type": "display_data"
    }
   ],
   "source": [
    "print('cities by accident')\n",
    "cities_by_accident[:20].plot(kind = 'barh');"
   ]
  },
  {
   "cell_type": "markdown",
   "id": "57d7e0c8",
   "metadata": {
    "papermill": {
     "duration": 0.008862,
     "end_time": "2022-12-21T09:25:31.611729",
     "exception": false,
     "start_time": "2022-12-21T09:25:31.602867",
     "status": "completed"
    },
    "tags": []
   },
   "source": [
    "## ASK AND ANSWER QUESTIONS"
   ]
  },
  {
   "cell_type": "markdown",
   "id": "023a9540",
   "metadata": {
    "papermill": {
     "duration": 0.007951,
     "end_time": "2022-12-21T09:25:31.628569",
     "exception": false,
     "start_time": "2022-12-21T09:25:31.620618",
     "status": "completed"
    },
    "tags": []
   },
   "source": [
    "1. Are there more accidents in warmer or colder areas\n",
    "2. Which 5 states have the highest number of accidents? How about per capita?\n",
    "3. Among the top 100 cities in number of accidents, which states do they belong to?"
   ]
  },
  {
   "cell_type": "markdown",
   "id": "fda5aacc",
   "metadata": {
    "papermill": {
     "duration": 0.007955,
     "end_time": "2022-12-21T09:25:31.645065",
     "exception": false,
     "start_time": "2022-12-21T09:25:31.637110",
     "status": "completed"
    },
    "tags": []
   },
   "source": [
    "## SUMMARY AND CONCLUSION"
   ]
  }
 ],
 "metadata": {
  "kernelspec": {
   "display_name": "Python 3",
   "language": "python",
   "name": "python3"
  },
  "language_info": {
   "codemirror_mode": {
    "name": "ipython",
    "version": 3
   },
   "file_extension": ".py",
   "mimetype": "text/x-python",
   "name": "python",
   "nbconvert_exporter": "python",
   "pygments_lexer": "ipython3",
   "version": "3.7.12"
  },
  "papermill": {
   "default_parameters": {},
   "duration": 64.286961,
   "end_time": "2022-12-21T09:25:33.079462",
   "environment_variables": {},
   "exception": null,
   "input_path": "__notebook__.ipynb",
   "output_path": "__notebook__.ipynb",
   "parameters": {},
   "start_time": "2022-12-21T09:24:28.792501",
   "version": "2.3.4"
  }
 },
 "nbformat": 4,
 "nbformat_minor": 5
}
